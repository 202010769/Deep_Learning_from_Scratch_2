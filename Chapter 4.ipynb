{
 "cells": [
  {
   "cell_type": "markdown",
   "id": "e4b82640",
   "metadata": {},
   "source": [
    "# Chapter 4 word2vec 속도 개선"
   ]
  },
  {
   "cell_type": "markdown",
   "id": "f7b9e72e",
   "metadata": {},
   "source": [
    "CBOW 모델은 단순한 2층 신경망으로, 간단한 구현 가능\n",
    "\n",
    "그러나, 말뭉치에 포함된 어휘 수가 많아지면 계산량도 커지게 됨\n",
    "\n",
    "-> 실제로 어휘 수가 어느 정도를 넘어서면 앞 장의 CBOW 모델은 계산 시간이 너무 오래 걸림 "
   ]
  },
  {
   "cell_type": "markdown",
   "id": "0934d1ff",
   "metadata": {},
   "source": [
    "## 4.1 word2vec 개선 ①"
   ]
  },
  {
   "cell_type": "markdown",
   "id": "4352c7bc",
   "metadata": {},
   "source": [
    "### 4.1.1 Embedding 계층"
   ]
  },
  {
   "cell_type": "markdown",
   "id": "25f2bbec",
   "metadata": {},
   "source": [
    "### 4.1.2 Embedding 계층 구현"
   ]
  },
  {
   "cell_type": "markdown",
   "id": "6d875788",
   "metadata": {},
   "source": [
    "## 4.2 word2vec 개선 ②"
   ]
  },
  {
   "cell_type": "markdown",
   "id": "b058b113",
   "metadata": {},
   "source": [
    "### 4.2.1 은닉층 이후 계산의 문제점"
   ]
  },
  {
   "cell_type": "markdown",
   "id": "2b0314d2",
   "metadata": {},
   "source": [
    "### 4.2.2 다중 분류에서 이진 분류로"
   ]
  },
  {
   "cell_type": "markdown",
   "id": "7fa59fd4",
   "metadata": {},
   "source": [
    "### 4.2.3 시그모이드 함수와 교차 엔트로피 오차"
   ]
  },
  {
   "cell_type": "markdown",
   "id": "ac3f5622",
   "metadata": {},
   "source": [
    "### 4.2.4 다중 분류에서 이진 분류로 (구현)"
   ]
  },
  {
   "cell_type": "markdown",
   "id": "1bf7d230",
   "metadata": {},
   "source": [
    "### 4.2.5 네거티브 샘플링"
   ]
  },
  {
   "cell_type": "markdown",
   "id": "ca0e96d1",
   "metadata": {},
   "source": [
    "### 4.2.6 네거티브 샘플링의 샘플링 기법"
   ]
  },
  {
   "cell_type": "markdown",
   "id": "a1c86238",
   "metadata": {},
   "source": [
    "### 4.2.7 네거티브 샘플링 구현"
   ]
  },
  {
   "cell_type": "markdown",
   "id": "dd8ae80b",
   "metadata": {},
   "source": [
    "## 4.3 개선판 word2vec 학습 "
   ]
  },
  {
   "cell_type": "markdown",
   "id": "97fd75e9",
   "metadata": {},
   "source": [
    "### 4.3.1 CBOW 모델 구현"
   ]
  },
  {
   "cell_type": "markdown",
   "id": "6004823e",
   "metadata": {},
   "source": [
    "### 4.3.2 CBOW 모델 학습 코드"
   ]
  },
  {
   "cell_type": "markdown",
   "id": "a7f79d4f",
   "metadata": {},
   "source": [
    "### 4.3.3 CBOW 모델 평가"
   ]
  },
  {
   "cell_type": "markdown",
   "id": "a401f8ed",
   "metadata": {},
   "source": [
    "## 4.4 word2vec 남은 주제"
   ]
  },
  {
   "cell_type": "markdown",
   "id": "728153de",
   "metadata": {},
   "source": [
    "### 4.4.1 word2vec을 사용한 애플리케이션의 예 "
   ]
  },
  {
   "cell_type": "markdown",
   "id": "dd7694f1",
   "metadata": {},
   "source": [
    "### 4.4.2 단어 벡터 평가 방법"
   ]
  },
  {
   "cell_type": "markdown",
   "id": "45e03910",
   "metadata": {},
   "source": [
    "## 4.5 정리"
   ]
  }
 ],
 "metadata": {
  "kernelspec": {
   "display_name": "Python 3 (ipykernel)",
   "language": "python",
   "name": "python3"
  },
  "language_info": {
   "codemirror_mode": {
    "name": "ipython",
    "version": 3
   },
   "file_extension": ".py",
   "mimetype": "text/x-python",
   "name": "python",
   "nbconvert_exporter": "python",
   "pygments_lexer": "ipython3",
   "version": "3.9.7"
  }
 },
 "nbformat": 4,
 "nbformat_minor": 5
}
