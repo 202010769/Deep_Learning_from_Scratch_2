{
 "cells": [
  {
   "cell_type": "markdown",
   "id": "611d8d69",
   "metadata": {},
   "source": [
    "# Chapter 6 게이트가 추가된 RNN"
   ]
  },
  {
   "cell_type": "markdown",
   "id": "06f76f02",
   "metadata": {},
   "source": [
    "5장에서 본 RNN은 순환 경로를 포함하며 과거의 정보를 기억할 수 있으며 구조가 단순하여 구현도 쉬움\n",
    "\n",
    "그러나, 시계열 데이터에서 시간적으로 멀리 떨어진, 장기(long term) 의존 관계를 잘 학습할 수 없다는 문제가 있음"
   ]
  },
  {
   "cell_type": "markdown",
   "id": "7b8445b3",
   "metadata": {},
   "source": [
    "요즘에는 기본 RNN보다, LSTM이나 GRU라는 계층이 주로 사용\n",
    "\n",
    "LSTM이나 GRU에는 기본 RNN에는 없는 게이트(gate)라는 구조가 존재\n",
    "\n",
    "이 게이트 덕분에 시계열 데이터의 장기 의존 관계 학습 가능"
   ]
  },
  {
   "cell_type": "markdown",
   "id": "48c59e72",
   "metadata": {},
   "source": [
    "## 6.1 RNN의 문제점"
   ]
  },
  {
   "cell_type": "markdown",
   "id": "6dbe7bbf",
   "metadata": {},
   "source": [
    "RNN은 BPTT에서 기울기 소실 혹은 기울기 폭발이 일어나기 때문에,\n",
    "\n",
    "시계열 데이터의 장기 의존 관계를 학습하기 어려움"
   ]
  },
  {
   "cell_type": "markdown",
   "id": "96567b88",
   "metadata": {},
   "source": [
    "### 6.1.1 RNN 복습 "
   ]
  },
  {
   "cell_type": "markdown",
   "id": "3363afa8",
   "metadata": {},
   "source": [
    "RNN 계층은 순환 경로를 갖고 있음"
   ]
  },
  {
   "cell_type": "markdown",
   "id": "a0b874ee",
   "metadata": {},
   "source": [
    "RNN 계층은 시계열 데이터인 x<sub>t</sub>를 입력하면 h<sub>t</sub>를 출력함\n",
    "\n",
    "RNN 계층은 h<sub>t</sub>라고 하는 이전 시각의 은닉상태를 이용하여, 과거 정보를 계승함\n",
    "\n",
    "RNN 계층의 순전파에서 수행하는 계산은 **행렬의 곱과 합**, **활성화 함수인 tanh 함수에 의한 변환**으로 구성됨"
   ]
  },
  {
   "cell_type": "markdown",
   "id": "81831c5b",
   "metadata": {},
   "source": [
    "### 6.1.2 기울기 소실 또는 기울기 폭발"
   ]
  },
  {
   "cell_type": "markdown",
   "id": "dfdfd037",
   "metadata": {},
   "source": [
    "언어 모델은 주어진 단어들을 기초로 다음에 출현할 단어를 예측하는 일 수행\n",
    "\n",
    "RNNLM : RNN을 사용해 구현한 언어 모델 (학습은 BPTT로 수행)\n",
    "\n",
    "RNNLM은 정답 레이블이 주어진 시점으로부터 과거 방향으로 기울기를 전달하게 됨\n",
    "\n",
    "-> 이렇게 RNN 계층이 과거 방향으로 **의미 있는 기울기**를 전달함으로써 시간 방향의 의존 관계를 학습 가능"
   ]
  },
  {
   "cell_type": "markdown",
   "id": "cecf95db",
   "metadata": {},
   "source": [
    "그러나, 만약 기울기가 중간에 사그라들면 가중치 매개변수는 전혀 갱신되지 못하며, 장기 의존 관계를 학습할 수 없게 됨\n",
    "\n",
    "현재의 단순한 RNN 계층에서는 시간을 거슬러 올라갈수록 기울기 소실 혹은 기울기 폭발이 일어날 수 있음"
   ]
  },
  {
   "cell_type": "markdown",
   "id": "b01ce6be",
   "metadata": {},
   "source": [
    "### 6.1.3 기울기 소실과 기울기 폭발의 원인"
   ]
  },
  {
   "cell_type": "markdown",
   "id": "25b0c3ed",
   "metadata": {},
   "source": [
    "길이가 T인 시계열 데이터를 가정하여 T번째 정답 레이블로부터 전해지는 기울기가 변하는 과정을 확인해보면,\n",
    "\n",
    "역전파로 전해지는 기울기는 차례로 **tanh**, **+**, **MatMul(행렬 곱)** 연산을 통과한다는 것을 확인 가능"
   ]
  },
  {
   "cell_type": "markdown",
   "id": "87d6657a",
   "metadata": {},
   "source": [
    "합 연산의 역전파는 상류에서 전해지는 기울기를 그대로 하류로 흘려보내므로 기울기가 변하지 않음"
   ]
  },
  {
   "cell_type": "markdown",
   "id": "3e948e57",
   "metadata": {},
   "source": [
    "tanh 연산의 경우, 그 미분의 값은 1.0 이하이고, x가 0으로 멀어질수록 작아짐\n",
    "\n",
    "-> **역전파에서는 기울기가 tanh 노드를 지날 떄마다 값이 계속 작아짐**, tanh 함수를 T번 통과하면 기울기도 T번 반복해서 작아지게 됨"
   ]
  },
  {
   "cell_type": "markdown",
   "id": "2890effd",
   "metadata": {},
   "source": [
    "### 6.1.4 기울기 폭발 대책"
   ]
  },
  {
   "cell_type": "markdown",
   "id": "d00ce8a1",
   "metadata": {},
   "source": [
    "## 6.2 기울기 소실과 LSTM"
   ]
  },
  {
   "cell_type": "markdown",
   "id": "f42bcf05",
   "metadata": {},
   "source": [
    "### 6.2.1 LSTM의 인터페이스"
   ]
  },
  {
   "cell_type": "markdown",
   "id": "40a5855d",
   "metadata": {},
   "source": [
    "### 6.2.2 LSTM 계층 조립하기"
   ]
  },
  {
   "cell_type": "markdown",
   "id": "a1dd4a23",
   "metadata": {},
   "source": [
    "### 6.2.3 output 게이트"
   ]
  },
  {
   "cell_type": "markdown",
   "id": "4b17b315",
   "metadata": {},
   "source": [
    "### 6.2.4 forget 게이트"
   ]
  },
  {
   "cell_type": "markdown",
   "id": "f4e380a2",
   "metadata": {},
   "source": [
    "### 6.2.5 새로운 기억 셀"
   ]
  },
  {
   "cell_type": "markdown",
   "id": "66a2674f",
   "metadata": {},
   "source": [
    "### 6.2.6 input 게이트"
   ]
  },
  {
   "cell_type": "markdown",
   "id": "0a36d5cd",
   "metadata": {},
   "source": [
    "### 6.2.7 LSTM의 기울기 흐름"
   ]
  },
  {
   "cell_type": "markdown",
   "id": "371e6e6b",
   "metadata": {},
   "source": [
    "## 6.3 LSTM 구현"
   ]
  },
  {
   "cell_type": "markdown",
   "id": "128b0650",
   "metadata": {},
   "source": [
    "### 6.3.1 Time LSTM 구현"
   ]
  },
  {
   "cell_type": "markdown",
   "id": "80fb0826",
   "metadata": {},
   "source": [
    "## 6.4 LSTM을 사용한 언어 모델"
   ]
  },
  {
   "cell_type": "markdown",
   "id": "e4b13041",
   "metadata": {},
   "source": [
    "## 6.5 RNNLM 추가 개선"
   ]
  },
  {
   "cell_type": "markdown",
   "id": "e98a0683",
   "metadata": {},
   "source": [
    "### 6.5.1 LSTM 계층 다층화 "
   ]
  },
  {
   "cell_type": "markdown",
   "id": "d30040be",
   "metadata": {},
   "source": [
    "### 6.5.2 드롭아웃에 의한 과적합 억제 "
   ]
  },
  {
   "cell_type": "markdown",
   "id": "bdc26f1a",
   "metadata": {},
   "source": [
    "### 6.5.3 가중치 공유 "
   ]
  },
  {
   "cell_type": "markdown",
   "id": "98fd56f9",
   "metadata": {},
   "source": [
    "### 6.5.4 개선된 RNNLM 구현 "
   ]
  },
  {
   "cell_type": "markdown",
   "id": "9032838c",
   "metadata": {},
   "source": [
    "### 6.5.5 첨단 연구로"
   ]
  },
  {
   "cell_type": "markdown",
   "id": "61a0f364",
   "metadata": {},
   "source": [
    "## 6.6 정리 "
   ]
  }
 ],
 "metadata": {
  "kernelspec": {
   "display_name": "Python 3 (ipykernel)",
   "language": "python",
   "name": "python3"
  },
  "language_info": {
   "codemirror_mode": {
    "name": "ipython",
    "version": 3
   },
   "file_extension": ".py",
   "mimetype": "text/x-python",
   "name": "python",
   "nbconvert_exporter": "python",
   "pygments_lexer": "ipython3",
   "version": "3.9.7"
  }
 },
 "nbformat": 4,
 "nbformat_minor": 5
}
