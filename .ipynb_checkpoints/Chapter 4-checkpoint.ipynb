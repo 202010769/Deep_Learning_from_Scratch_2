{
 "cells": [
  {
   "cell_type": "markdown",
   "id": "e4b82640",
   "metadata": {},
   "source": [
    "# Chapter 4 word2vec 속도 개선"
   ]
  },
  {
   "cell_type": "markdown",
   "id": "f7b9e72e",
   "metadata": {},
   "source": [
    "CBOW 모델은 단순한 2층 신경망으로, 간단한 구현 가능\n",
    "\n",
    "그러나, 말뭉치에 포함된 어휘 수가 많아지면 계산량도 커지게 됨\n",
    "\n",
    "-> 실제로 어휘 수가 어느 정도를 넘어서면 앞 장의 CBOW 모델은 계산 시간이 너무 오래 걸림 "
   ]
  },
  {
   "cell_type": "markdown",
   "id": "5766f3f8",
   "metadata": {},
   "source": [
    "<word2vec의 속도 개선>\n",
    "\n",
    "1. Embedding이라는 새로운 계층을 도입\n",
    "2. 네거티브 샘플링 이라는 새로운 손실 함수를 도입"
   ]
  },
  {
   "cell_type": "markdown",
   "id": "0934d1ff",
   "metadata": {},
   "source": [
    "## 4.1 word2vec 개선 ①"
   ]
  },
  {
   "cell_type": "markdown",
   "id": "6468cca2",
   "metadata": {},
   "source": [
    "**<앞 장에서 구현한 CBOW 모델>**\n",
    "\n",
    "-> 단어 2개를 맥락으로 사용해, 이를 바탕으로 하나의 단어(타깃)를 추측\n",
    "\n",
    "입력 측 가중치(W<sub>in</sub>)와의 행렬 곱으로 ***은닉층***을 계산\n",
    "\n",
    "출력 측 가중치(W<sub>out</sub>)와의 행렬 곱으로 ***각 단어의 점수***를 구함\n",
    "\n",
    "점수에 소프트맥스 함수를 적용해 ***단어의 출현 확률***을 구함\n",
    "\n",
    "확률을 정답 레이블과 비교(교차 엔트로피 오차를 적용)하여 ***손실***을 구함"
   ]
  },
  {
   "cell_type": "markdown",
   "id": "d12c1a10",
   "metadata": {},
   "source": [
    "**<거대한 말뭉치를 다룰 경우 발생하는 문제>**\n",
    "\n",
    "1. 입력층의 원핫 표현과 가중치 행렬 W<sub>in</sub>의 곱 계산\n",
    "\n",
    "2. 은닉층과 가중치 행렬 W<sub>out</sub>의 곱 및 Softmax 계층의 계산"
   ]
  },
  {
   "cell_type": "markdown",
   "id": "68b1bdfc",
   "metadata": {},
   "source": [
    "**입력층의 원핫 표현과 관련한 문제**\n",
    "\n",
    "-> 단어를 원핫 표현으로 다루기 때문에 어휘 수가 많아지면 원핫 표현의 벡터 크기도 커지게 됨\n",
    "\n",
    "-> 그리고 그 원핫 벡터와 가중치 행렬 W<sub>in</sub>을 곱해야하는데 이 역시도 상당히 많은 계산 자원 사용\n",
    "\n",
    "**-> Embedding 계층을 도입하는 것으로 해결**"
   ]
  },
  {
   "cell_type": "markdown",
   "id": "f971216e",
   "metadata": {},
   "source": [
    "**은닉층 이후의 계산 문제**\n",
    "\n",
    "-> 은닉층과 가중치 행렬 W<sub>out</sub>의 곱만 해도 계산량이 상당함\n",
    "\n",
    "-> Softmax 계층에서도 다루는 어휘가 많아짐에 따라 계산량이 증가하는 문제가 있음\n",
    "\n",
    "**-> 네거티브 샘플링이라는 새로운 손실 함수를 도입하여 해결**"
   ]
  },
  {
   "cell_type": "markdown",
   "id": "0150a7d4",
   "metadata": {},
   "source": [
    "### 4.1.1 Embedding 계층"
   ]
  },
  {
   "cell_type": "markdown",
   "id": "25f2bbec",
   "metadata": {},
   "source": [
    "### 4.1.2 Embedding 계층 구현"
   ]
  },
  {
   "cell_type": "markdown",
   "id": "6d875788",
   "metadata": {},
   "source": [
    "## 4.2 word2vec 개선 ②"
   ]
  },
  {
   "cell_type": "markdown",
   "id": "b058b113",
   "metadata": {},
   "source": [
    "### 4.2.1 은닉층 이후 계산의 문제점"
   ]
  },
  {
   "cell_type": "markdown",
   "id": "2b0314d2",
   "metadata": {},
   "source": [
    "### 4.2.2 다중 분류에서 이진 분류로"
   ]
  },
  {
   "cell_type": "markdown",
   "id": "7fa59fd4",
   "metadata": {},
   "source": [
    "### 4.2.3 시그모이드 함수와 교차 엔트로피 오차"
   ]
  },
  {
   "cell_type": "markdown",
   "id": "ac3f5622",
   "metadata": {},
   "source": [
    "### 4.2.4 다중 분류에서 이진 분류로 (구현)"
   ]
  },
  {
   "cell_type": "markdown",
   "id": "1bf7d230",
   "metadata": {},
   "source": [
    "### 4.2.5 네거티브 샘플링"
   ]
  },
  {
   "cell_type": "markdown",
   "id": "ca0e96d1",
   "metadata": {},
   "source": [
    "### 4.2.6 네거티브 샘플링의 샘플링 기법"
   ]
  },
  {
   "cell_type": "markdown",
   "id": "a1c86238",
   "metadata": {},
   "source": [
    "### 4.2.7 네거티브 샘플링 구현"
   ]
  },
  {
   "cell_type": "markdown",
   "id": "dd8ae80b",
   "metadata": {},
   "source": [
    "## 4.3 개선판 word2vec 학습 "
   ]
  },
  {
   "cell_type": "markdown",
   "id": "97fd75e9",
   "metadata": {},
   "source": [
    "### 4.3.1 CBOW 모델 구현"
   ]
  },
  {
   "cell_type": "markdown",
   "id": "6004823e",
   "metadata": {},
   "source": [
    "### 4.3.2 CBOW 모델 학습 코드"
   ]
  },
  {
   "cell_type": "markdown",
   "id": "a7f79d4f",
   "metadata": {},
   "source": [
    "### 4.3.3 CBOW 모델 평가"
   ]
  },
  {
   "cell_type": "markdown",
   "id": "a401f8ed",
   "metadata": {},
   "source": [
    "## 4.4 word2vec 남은 주제"
   ]
  },
  {
   "cell_type": "markdown",
   "id": "728153de",
   "metadata": {},
   "source": [
    "### 4.4.1 word2vec을 사용한 애플리케이션의 예 "
   ]
  },
  {
   "cell_type": "markdown",
   "id": "dd7694f1",
   "metadata": {},
   "source": [
    "### 4.4.2 단어 벡터 평가 방법"
   ]
  },
  {
   "cell_type": "markdown",
   "id": "45e03910",
   "metadata": {},
   "source": [
    "## 4.5 정리"
   ]
  }
 ],
 "metadata": {
  "kernelspec": {
   "display_name": "Python 3 (ipykernel)",
   "language": "python",
   "name": "python3"
  },
  "language_info": {
   "codemirror_mode": {
    "name": "ipython",
    "version": 3
   },
   "file_extension": ".py",
   "mimetype": "text/x-python",
   "name": "python",
   "nbconvert_exporter": "python",
   "pygments_lexer": "ipython3",
   "version": "3.9.6"
  }
 },
 "nbformat": 4,
 "nbformat_minor": 5
}
