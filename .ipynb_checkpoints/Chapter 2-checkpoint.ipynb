{
 "cells": [
  {
   "cell_type": "markdown",
   "id": "8303b6a0",
   "metadata": {},
   "source": [
    "# Chapter 2 자연어와 단어의 분산 표현"
   ]
  },
  {
   "cell_type": "markdown",
   "id": "49a3f4a7",
   "metadata": {},
   "source": [
    "## 2.1 자연어 처리란 "
   ]
  },
  {
   "cell_type": "markdown",
   "id": "73235413",
   "metadata": {},
   "source": [
    "자연어 (natural language) : 한국어와 영어 등 우리가 평소에 쓰는 말"
   ]
  },
  {
   "cell_type": "markdown",
   "id": "8ee4ac15",
   "metadata": {},
   "source": [
    "자연어 처리 (Natural Language Processing, NLP)\n",
    "\n",
    "- 자연어를 처리하는 분야\n",
    "\n",
    "- 우리의 말을 컴퓨터에게 이해시키기 위한 기술(분야)\n",
    "\n",
    "- 사람의 말을 컴퓨터가 이해하도록 만들어서, 컴퓨터가 우리에게 도움이 되는 일을 수행하게 하는 것이 목표"
   ]
  },
  {
   "cell_type": "markdown",
   "id": "730ad47a",
   "metadata": {},
   "source": [
    "딱딱한 언어\n",
    "\n",
    "- 프로그래밍 언어, 마크업 언어\n",
    "\n",
    "- 기계적 & 고정적\n",
    "\n",
    "- 컴퓨터가 이해할 수 있는 언어\n",
    "\n",
    "- 모든 코드의 의미를 고유하게 해석할 수 있도록 문법이 정의되어 있고, 컴퓨터는 이 정해진 규칙에 따라서 코드를 해석"
   ]
  },
  {
   "cell_type": "markdown",
   "id": "f7f067ed",
   "metadata": {},
   "source": [
    "부드러운 언어\n",
    "\n",
    "- 자연어 ex) 영어, 한국어\n",
    "\n",
    "- 똑같은 의미의 문장도 여러 형태로 표현할 수 있거나, 문장의 뜻이 애매할 수 있는 등 그 의미나 형태가 유연하게 바뀜\n",
    "\n",
    "- 세월이 흐르면서 새로운 말이나 새로운 의미가 생기거나 있던 것이 사라지기도 함"
   ]
  },
  {
   "cell_type": "markdown",
   "id": "d49aa5a4",
   "metadata": {},
   "source": [
    "자연어 처리 기술\n",
    "\n",
    "- 검색 엔진\n",
    "\n",
    "- 기계 변역\n",
    "\n",
    "- 질의응답 시스템 ex) IBM 왓슨\n",
    "\n",
    "- IME(입력기 전환)\n",
    "\n",
    "- 문장 자동요약\n",
    "\n",
    "- 감정분석"
   ]
  },
  {
   "cell_type": "markdown",
   "id": "fa58e4fc",
   "metadata": {},
   "source": [
    "### 2.1.1 단어의 의미"
   ]
  },
  {
   "cell_type": "markdown",
   "id": "75099375",
   "metadata": {},
   "source": [
    "단어 : 의미의 최소 단위"
   ]
  },
  {
   "cell_type": "markdown",
   "id": "2a69278a",
   "metadata": {},
   "source": [
    "자연어를 컴퓨터에게 이해시키는 데는 무엇보다 '단어의 의미'를 이해시키는 것이 중요"
   ]
  },
  {
   "cell_type": "markdown",
   "id": "2cf74c33",
   "metadata": {},
   "source": [
    "__'단어의 의미'를 잘 파악하는 표현 방법__\n",
    "\n",
    "1. 시소러스(thesaurus)를 활용한 기법\n",
    "\n",
    "2. 통계 기반 기법\n",
    "\n",
    "3. 추론 기반 기법(word2vec)"
   ]
  },
  {
   "cell_type": "markdown",
   "id": "19ce5f5f",
   "metadata": {},
   "source": [
    "## 2.2 시소러스 "
   ]
  },
  {
   "cell_type": "markdown",
   "id": "303424c9",
   "metadata": {},
   "source": [
    "__시소러스(thesaurus)__\n",
    "\n",
    "- 유의어 사전\n",
    "\n",
    "- '뜻이 같은 단어(동의어)'나 '뜻이 비슷한 단어(유의어)'가 한 그룹으로 분류되어 있음\n",
    "\n",
    "- 단어 사이의 '상위와 하위' 혹은 '전체와 부분' 등, 더 세세한 관계까지 정의하둔 경우가 있음\n",
    "\n",
    "- 모든 단어에 대한 유의어 집합을 만든 다음, 단어들의 관계를 그래프로 표현하여 단어 사이의 연결을 정의할 수 있음\n",
    "\n",
    "- 이 '단어 네트워크'를 이용하여 컴퓨터에게 단어 사이의 관계를 가르칠 수 있음"
   ]
  },
  {
   "cell_type": "markdown",
   "id": "27f8c18b",
   "metadata": {},
   "source": [
    "### 2.2.1 WordNet"
   ]
  },
  {
   "cell_type": "markdown",
   "id": "ce28847d",
   "metadata": {},
   "source": [
    "WordNet : 자연어 처리 분야에서 가장 유명한 시소러스"
   ]
  },
  {
   "cell_type": "markdown",
   "id": "6454dd7f",
   "metadata": {},
   "source": [
    "WordNet을 사용하면 유의어를 얻거나 '단어 네트워크' 이용 가능\n",
    "\n",
    "단어 네트워크를 사용해 단어 사이의 유사도를 구할 수도 있음\n",
    "\n",
    "부록 B.WordNet 맛보기 참고"
   ]
  },
  {
   "cell_type": "markdown",
   "id": "bc2644cd",
   "metadata": {},
   "source": [
    "### 2.2.2 시소러스의 문제점"
   ]
  },
  {
   "cell_type": "markdown",
   "id": "459bcf0e",
   "metadata": {},
   "source": [
    "WordNet과 같은 시소러스에는 수많은 단어에 대한 동의어와 계층 구조 등의 관계가 정의돼있음\n",
    "\n",
    "이 지식을 이용하면 '단어의 의미를' (간접적으로라도) 컴퓨터에 전달할 수 있음"
   ]
  },
  {
   "cell_type": "markdown",
   "id": "6777fd33",
   "metadata": {},
   "source": [
    "하지만, 사람이 수작업으로 레이블링하는 방식에는 크나큰 결점이 존재"
   ]
  },
  {
   "cell_type": "markdown",
   "id": "b6c61d43",
   "metadata": {},
   "source": [
    "__시소러스 방식의 대표적인 문제점__\n",
    "\n",
    "- 시대 변화에 대응하기 어렵다.\n",
    "\n",
    "(단어의 변화에 대응하려면 시소러스를 사람이 수작업으로 끊임없이 갱신해야함)\n",
    "\n",
    "- 사람을 쓰는 비용은 크다.\n",
    "\n",
    "(시소러스를 만드는 데는 엄청난 인적 비용이 발생)\n",
    "\n",
    "- 단어의 미묘한 차이를 표현할 수 없다.\n",
    "\n",
    "(비슷한 단어들이라도 미묘한 차이가 존재하는 경우 이 차이를 표현할 수 없음 ex) 빈티지, 레트로)"
   ]
  },
  {
   "cell_type": "markdown",
   "id": "1a7db9a7",
   "metadata": {},
   "source": [
    "## 2.3 통계 기반 기법 "
   ]
  },
  {
   "cell_type": "markdown",
   "id": "c4b8467f",
   "metadata": {},
   "source": [
    "### 2.3.1 파이썬으로 말뭉치 전처리하기 "
   ]
  },
  {
   "cell_type": "markdown",
   "id": "79261261",
   "metadata": {},
   "source": [
    "###### 자연어 처리에는 다양한 말뭉치가 사용됨. "
   ]
  },
  {
   "cell_type": "markdown",
   "id": "a2df14e9",
   "metadata": {},
   "source": [
    "###### 위키백과와 구글 뉴스 등의 텍스트 데이터와 셰익스피어나 나쓰메 소세키 같은 대문호의 작품들을 말뭉치로 이용함. "
   ]
  },
  {
   "cell_type": "markdown",
   "id": "0309045c",
   "metadata": {},
   "source": [
    "###### 전처리 (preprocessing) : 텍스트 데이터를 단어로 분할하고 그 분할된 단어들을 단어 ID 목록으로 변환하는 일 "
   ]
  },
  {
   "cell_type": "code",
   "execution_count": 1,
   "id": "56c75769",
   "metadata": {},
   "outputs": [],
   "source": [
    "# 말뭉치로 이용할 예시 문장\n",
    "\n",
    "text = 'You say goodbye and I say hello.'"
   ]
  },
  {
   "cell_type": "code",
   "execution_count": 2,
   "id": "dc68f5db",
   "metadata": {},
   "outputs": [
    {
     "data": {
      "text/plain": [
       "'you say goodbye and i say hello .'"
      ]
     },
     "execution_count": 2,
     "metadata": {},
     "output_type": "execute_result"
    }
   ],
   "source": [
    "# text를 단어 단위로 분할\n",
    "\n",
    "text = text.lower() # lower() 메서드를 사용해 모든 문자를 소문자로 변환\n",
    "text = text.replace('.', ' .') # 공백문자를 기준으로 분할할 것이므로, 마침표 앞에 공백을 삽입\n",
    "text"
   ]
  },
  {
   "cell_type": "code",
   "execution_count": 3,
   "id": "43304ab0",
   "metadata": {},
   "outputs": [
    {
     "data": {
      "text/plain": [
       "['you', 'say', 'goodbye', 'and', 'i', 'say', 'hello', '.']"
      ]
     },
     "execution_count": 3,
     "metadata": {},
     "output_type": "execute_result"
    }
   ],
   "source": [
    "words = text.split(' ') # split(' ') 메서드를 사용해 공백을 기준으로 분할\n",
    "words"
   ]
  },
  {
   "cell_type": "code",
   "execution_count": 4,
   "id": "e4bb9cbe",
   "metadata": {},
   "outputs": [],
   "source": [
    "# 단어에 ID를 부여하고, ID의 리스트로 이용할 수 있도록 한 번 더 손질\n",
    "# 단어 ID와 단어를 짝지어주는 대응표를 작성\n",
    "\n",
    "word_to_id = {} # 단어에서 단어 ID로의 변환을 담당하는 리스트 생성\n",
    "id_to_word = {} # 단어 ID에서 단어로의 변환을 담당하는 리스트 생성\n",
    "\n",
    "for word in words: # 반복문을 돌며, words의 각 원소를 하나씩 살펴봄\n",
    "    if word not in word_to_id: # word_to_id 리스트에 없는 원소의 경우,\n",
    "        new_id = len(word_to_id) # word_to_id의 길이에 맞춘 번호로 새로운 ID 생성\n",
    "        word_to_id[word] = new_id # word_to_id 리스트에서 해당 원소의 value값을 new_id로 설정 \n",
    "        id_to_word[new_id] = word # id_to_word 리스트에서 해당 원소의 key값을 new_id로, value값을 word로 설정"
   ]
  },
  {
   "cell_type": "code",
   "execution_count": 5,
   "id": "6bbf59b1",
   "metadata": {},
   "outputs": [
    {
     "data": {
      "text/plain": [
       "{0: 'you', 1: 'say', 2: 'goodbye', 3: 'and', 4: 'i', 5: 'hello', 6: '.'}"
      ]
     },
     "execution_count": 5,
     "metadata": {},
     "output_type": "execute_result"
    }
   ],
   "source": [
    "# 실제 어떤 내용이 담겨 있는지 확인\n",
    "\n",
    "id_to_word"
   ]
  },
  {
   "cell_type": "code",
   "execution_count": 6,
   "id": "20a89f8a",
   "metadata": {},
   "outputs": [
    {
     "data": {
      "text/plain": [
       "{'you': 0, 'say': 1, 'goodbye': 2, 'and': 3, 'i': 4, 'hello': 5, '.': 6}"
      ]
     },
     "execution_count": 6,
     "metadata": {},
     "output_type": "execute_result"
    }
   ],
   "source": [
    "word_to_id"
   ]
  },
  {
   "cell_type": "code",
   "execution_count": 7,
   "id": "4cb9ff74",
   "metadata": {},
   "outputs": [
    {
     "data": {
      "text/plain": [
       "'say'"
      ]
     },
     "execution_count": 7,
     "metadata": {},
     "output_type": "execute_result"
    }
   ],
   "source": [
    "# 딕셔너리를 사용하면 단어를 가지고 단어 ID를 검색하거나, 단어 ID를 가지고 단어로 검색할 수 있음\n",
    "\n",
    "id_to_word[1]"
   ]
  },
  {
   "cell_type": "code",
   "execution_count": 8,
   "id": "3a80ffe1",
   "metadata": {},
   "outputs": [
    {
     "data": {
      "text/plain": [
       "5"
      ]
     },
     "execution_count": 8,
     "metadata": {},
     "output_type": "execute_result"
    }
   ],
   "source": [
    "word_to_id['hello']"
   ]
  },
  {
   "cell_type": "code",
   "execution_count": 9,
   "id": "f0af20d6",
   "metadata": {},
   "outputs": [
    {
     "data": {
      "text/plain": [
       "array([0, 1, 2, 3, 4, 1, 5, 6])"
      ]
     },
     "execution_count": 9,
     "metadata": {},
     "output_type": "execute_result"
    }
   ],
   "source": [
    "# '단어 목록'을 '단어 ID 목록'으로 변경\n",
    "# 단어 목록에서 단어 ID 목록으로 변환한 다음, 다시 넘파이 배열로 변환\n",
    "\n",
    "import numpy as np\n",
    "corpus = [word_to_id[w] for w in words]\n",
    "corpus = np.array(corpus)\n",
    "corpus"
   ]
  },
  {
   "cell_type": "code",
   "execution_count": 10,
   "id": "f3670e13",
   "metadata": {},
   "outputs": [],
   "source": [
    "# 말뭉치 전처리 함수 정의 \n",
    "\n",
    "def preprocess(text):\n",
    "    text = text.lower()\n",
    "    text = text.replace('.', ' .')\n",
    "    words = text.split(' ')\n",
    "    word_to_id = {}\n",
    "    id_to_word = {}\n",
    "    for word in words:\n",
    "        if word not in word_to_id:\n",
    "            new_id = len(word_to_id)\n",
    "            word_to_id[word] = new_id\n",
    "            id_to_word[new_id] = word\n",
    "            \n",
    "    corpus = np.array([word_to_id[w] for w in words])\n",
    "    \n",
    "    return corpus, word_to_id, id_to_word"
   ]
  },
  {
   "cell_type": "code",
   "execution_count": 11,
   "id": "1d0b324b",
   "metadata": {},
   "outputs": [],
   "source": [
    "text = 'You say goodbye and I say hello.'\n",
    "corpus, word_to_id, id_to_word = preprocess(text)"
   ]
  },
  {
   "cell_type": "markdown",
   "id": "d9aea3c3",
   "metadata": {},
   "source": [
    "### 2.3.2 단어의 분산 표현"
   ]
  },
  {
   "cell_type": "markdown",
   "id": "2cea452e",
   "metadata": {},
   "source": [
    "간결하고 이치에 맞는 벡터 표현을 단어라는 영역에서도 구축하면 '단어의 의미'를 정확하게 파악 가능"
   ]
  },
  {
   "cell_type": "markdown",
   "id": "0c79cccf",
   "metadata": {},
   "source": [
    "-> 분산표현 (distributional representation)"
   ]
  },
  {
   "cell_type": "markdown",
   "id": "948da5a5",
   "metadata": {},
   "source": [
    "단어의 분산 표현은 단어를 고정 길이의 밀집벡터로 표현"
   ]
  },
  {
   "cell_type": "markdown",
   "id": "e9cb26bb",
   "metadata": {},
   "source": [
    "밀집벡터 (dense vector) : 대부분의 원소가 0이 아닌 실수인 벡터"
   ]
  },
  {
   "cell_type": "markdown",
   "id": "06f25d41",
   "metadata": {},
   "source": [
    "### 2.3.3 분포 가설"
   ]
  },
  {
   "cell_type": "markdown",
   "id": "bd63da8d",
   "metadata": {},
   "source": [
    "분포 가설 (distributional hypothesis) : '단어의 의미는 주변 단어에 의해 형성된다.'"
   ]
  },
  {
   "cell_type": "markdown",
   "id": "bc82eb67",
   "metadata": {},
   "source": [
    "단어 자체에는 의미가 없고, 그 단어가 사용된 맥락(context)이 의미를 형성한다는 의미"
   ]
  },
  {
   "cell_type": "markdown",
   "id": "64727886",
   "metadata": {},
   "source": [
    "맥락 (context) : 특정 단어를 중심에 둔 그 주변 단어"
   ]
  },
  {
   "cell_type": "markdown",
   "id": "86608517",
   "metadata": {},
   "source": [
    "윈도우 크기 (window size) : 맥락의 크기 (주변 단어를 몇 개나 포함할지)\n",
    "\n",
    "ex) 윈도우 크기 1 : 좌우 한 단어씩이 맥락에 포함, 윈도우 크기 2 : 좌우 두 단어씩이 맥락에 포함"
   ]
  },
  {
   "cell_type": "markdown",
   "id": "66c54dd8",
   "metadata": {},
   "source": [
    "### 2.3.4 동시발생 행렬"
   ]
  },
  {
   "cell_type": "markdown",
   "id": "ca024a8d",
   "metadata": {},
   "source": [
    "통계기반(statistical based) 기법 : 어떤 단어에 주목했을 떄, 그 주변에 어떤 단어가 몇 번이나 등장하는지를 세어 집계하는 방법"
   ]
  },
  {
   "cell_type": "code",
   "execution_count": 12,
   "id": "81846514",
   "metadata": {},
   "outputs": [
    {
     "name": "stdout",
     "output_type": "stream",
     "text": [
      "[0 1 2 3 4 1 5 6]\n",
      "{0: 'you', 1: 'say', 2: 'goodbye', 3: 'and', 4: 'i', 5: 'hello', 6: '.'}\n"
     ]
    }
   ],
   "source": [
    "# 전처리\n",
    "\n",
    "import sys\n",
    "sys.path.append('..')\n",
    "import numpy as np\n",
    "from common.util import preprocess\n",
    "\n",
    "text = 'You say goodbye and I say hello.'\n",
    "corpus, word_to_id, id_to_word = preprocess(text)\n",
    "\n",
    "print(corpus)\n",
    "# [0 1 2 3 4 1 5 6]\n",
    "\n",
    "print(id_to_word)\n",
    "# {0: 'you', 1: 'say', 2: 'goodbye', 3: 'and', 4: 'i', 5: 'hello', 6: '.'} "
   ]
  },
  {
   "cell_type": "markdown",
   "id": "09950eb5",
   "metadata": {},
   "source": [
    "동시발생 행렬(co-occurrence matrix) : 표의 각 행은 해당 단어를 표현한 벡터가 되고, 그 표가 행렬의 형태를 띤다는 의미"
   ]
  },
  {
   "cell_type": "code",
   "execution_count": 13,
   "id": "de0868e2",
   "metadata": {},
   "outputs": [],
   "source": [
    "# 동시발생 행렬 구현\n",
    "\n",
    "C = np.array([\n",
    "    [0, 1, 0, 0, 0, 0, 0],\n",
    "    [1, 0, 1, 0, 1, 1, 0],\n",
    "    [0, 1, 0, 1, 0, 0, 0],\n",
    "    [0, 0, 1, 0, 1, 0, 0],\n",
    "    [0, 1, 0, 1, 0, 0, 0],\n",
    "    [0, 1, 0, 0, 0, 0, 1],\n",
    "    [0, 0, 0, 0, 0, 1, 0]\n",
    "], dtype = np.int32)"
   ]
  },
  {
   "cell_type": "code",
   "execution_count": 14,
   "id": "2ae0172a",
   "metadata": {},
   "outputs": [
    {
     "name": "stdout",
     "output_type": "stream",
     "text": [
      "[0 1 0 0 0 0 0]\n",
      "[0 1 0 1 0 0 0]\n",
      "[0 1 0 1 0 0 0]\n"
     ]
    }
   ],
   "source": [
    "print(C[0]) # ID가 0인 단어의 벡터 표현\n",
    "# [0 1 0 0 0 0 0]\n",
    "\n",
    "print(C[4]) # ID가 4인 단어의 벡터 표현\n",
    "# [0 1 0 1 0 0 0]\n",
    "\n",
    "print(C[word_to_id['goodbye']]) # \"goodbye\"의 벡터 표현\n",
    "# [0 1 0 1 0 0 0]"
   ]
  },
  {
   "cell_type": "code",
   "execution_count": 15,
   "id": "e7dffbcf",
   "metadata": {},
   "outputs": [],
   "source": [
    "# 동시발생 행렬 자동 생성 함수 정의\n",
    "\n",
    "def create_co_matrix(corpus, vocab_size, window_size = 1): # 단어 ID의 리스트, 어휘 수, 윈도우 크기\n",
    "    corpus_size = len(corpus) # 단어 ID 리스트 길이만큼 corpus_size 설정\n",
    "    co_matrix = np.zeros((vocab_size, vocab_size), dtype=np.int32) # 어휘 수 x 어휘 수 크기의 2차원 matrix 만들어서 0으로 초기화\n",
    "    \n",
    "    for idx, word_id in enumerate(corpus): # 단어 ID와 그 idx값 enumerate\n",
    "        for i in range(1, window_size + 1): # 1 ~ window_size만큼 반복문 돌면서 맥락 파악\n",
    "            left_idx = idx - i # idx 값 - i값이 left_idx값\n",
    "            right_idx = idx + i # idx 값 + i값이 right_idx값\n",
    "            \n",
    "            if left_idx >= 0: # 말뭉치의 왼쪽 끝을 벗어나지 않는 경우만\n",
    "                left_word_id = corpus[left_idx] # 그 idx값의 단어 ID를 left_word_id에 저장\n",
    "                co_matrix[word_id, left_word_id] += 1 # 해당 word_id의 왼쪽 맥락 어휘 위치에 +1\n",
    "            \n",
    "            if right_idx < corpus_size: # 말뭉치의 오른쪽 끝을 벗어나지 않는 경우만\n",
    "                right_word_id = corpus[right_idx] # 그 idx값의 단어 ID를 right_word_id에 저장\n",
    "                co_matrix[word_id, right_word_id] += 1 # 해당 word_id의 오른쪽 맥락 어휘 위치에 +1\n",
    "            \n",
    "    return co_matrix"
   ]
  },
  {
   "cell_type": "markdown",
   "id": "f23ce312",
   "metadata": {},
   "source": [
    "### 2.3.5 벡터 간 유사도"
   ]
  },
  {
   "cell_type": "markdown",
   "id": "056ee4b6",
   "metadata": {},
   "source": [
    "### 2.3.6 유사 단어의 랭킹 표시"
   ]
  },
  {
   "cell_type": "markdown",
   "id": "6b657bb3",
   "metadata": {},
   "source": [
    "## 2.4 통계 기반 기법 개선하기"
   ]
  },
  {
   "cell_type": "markdown",
   "id": "a3de0571",
   "metadata": {},
   "source": [
    "## 2.5 정리"
   ]
  }
 ],
 "metadata": {
  "kernelspec": {
   "display_name": "Python 3 (ipykernel)",
   "language": "python",
   "name": "python3"
  },
  "language_info": {
   "codemirror_mode": {
    "name": "ipython",
    "version": 3
   },
   "file_extension": ".py",
   "mimetype": "text/x-python",
   "name": "python",
   "nbconvert_exporter": "python",
   "pygments_lexer": "ipython3",
   "version": "3.9.7"
  }
 },
 "nbformat": 4,
 "nbformat_minor": 5
}
